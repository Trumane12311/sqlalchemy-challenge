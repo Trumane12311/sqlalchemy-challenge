{
 "cells": [
  {
   "cell_type": "code",
   "execution_count": 139,
   "metadata": {},
   "outputs": [],
   "source": [
    "%matplotlib inline\n",
    "from matplotlib import style\n",
    "style.use('fivethirtyeight')\n",
    "import matplotlib.pyplot as plt\n",
    "import matplotlib as mlp\n",
    "import matplotlib.patches as mpatches\n",
    "import os"
   ]
  },
  {
   "cell_type": "code",
   "execution_count": 2,
   "metadata": {},
   "outputs": [],
   "source": [
    "import numpy as np\n",
    "import pandas as pd\n",
    "import datetime as dt"
   ]
  },
  {
   "cell_type": "markdown",
   "metadata": {},
   "source": [
    "# Reflect Tables into SQLAlchemy ORM"
   ]
  },
  {
   "cell_type": "code",
   "execution_count": 22,
   "metadata": {},
   "outputs": [],
   "source": [
    "# Python SQL toolkit and Object Relational Mapper\n",
    "import sqlalchemy\n",
    "from sqlalchemy.ext.automap import automap_base\n",
    "from sqlalchemy.orm import Session\n",
    "from sqlalchemy import create_engine, inspect, func\n",
    "from sqlalchemy import desc"
   ]
  },
  {
   "cell_type": "code",
   "execution_count": 4,
   "metadata": {},
   "outputs": [],
   "source": [
    "# create engine to hawaii.sqlite\n",
    "engine = create_engine(\"sqlite:///Resources/hawaii.sqlite\")"
   ]
  },
  {
   "cell_type": "code",
   "execution_count": 5,
   "metadata": {},
   "outputs": [],
   "source": [
    "# reflect an existing database into a new model\n",
    "Base = automap_base()\n",
    "# reflect the tables\n",
    "Base.prepare(engine, reflect=True)"
   ]
  },
  {
   "cell_type": "code",
   "execution_count": 6,
   "metadata": {},
   "outputs": [
    {
     "data": {
      "text/plain": [
       "['measurement', 'station']"
      ]
     },
     "execution_count": 6,
     "metadata": {},
     "output_type": "execute_result"
    }
   ],
   "source": [
    "# View all of the classes that automap found\n",
    "Base.classes.keys()"
   ]
  },
  {
   "cell_type": "code",
   "execution_count": 7,
   "metadata": {},
   "outputs": [],
   "source": [
    "# Save references to each table\n",
    "Measurement = Base.classes.measurement\n",
    "Station = Base.classes.station"
   ]
  },
  {
   "cell_type": "code",
   "execution_count": 8,
   "metadata": {},
   "outputs": [],
   "source": [
    "# Create our session (link) from Python to the DB\n",
    "session = Session(engine)"
   ]
  },
  {
   "cell_type": "markdown",
   "metadata": {},
   "source": [
    "# Exploratory Precipitation Analysis"
   ]
  },
  {
   "cell_type": "code",
   "execution_count": 23,
   "metadata": {},
   "outputs": [
    {
     "name": "stdout",
     "output_type": "stream",
     "text": [
      "id INTEGER\n",
      "station TEXT\n",
      "date TEXT\n",
      "prcp FLOAT\n",
      "tobs FLOAT\n"
     ]
    }
   ],
   "source": [
    "inspector = inspect(engine)\n",
    "columns = inspector.get_columns('measurement')\n",
    "for c in columns:\n",
    "    print(c['name'], c[\"type\"])"
   ]
  },
  {
   "cell_type": "code",
   "execution_count": 12,
   "metadata": {},
   "outputs": [
    {
     "data": {
      "text/plain": [
       "{'_sa_instance_state': <sqlalchemy.orm.state.InstanceState at 0x7fe639638908>,\n",
       " 'tobs': 65.0,\n",
       " 'date': '2010-01-01',\n",
       " 'id': 1,\n",
       " 'prcp': 0.08,\n",
       " 'station': 'USC00519397'}"
      ]
     },
     "execution_count": 12,
     "metadata": {},
     "output_type": "execute_result"
    }
   ],
   "source": [
    "recent_row = session.query(Measurement).first()\n",
    "recent_row.__dict__"
   ]
  },
  {
   "cell_type": "code",
   "execution_count": 32,
   "metadata": {},
   "outputs": [
    {
     "data": {
      "text/plain": [
       "[(1, 'USC00519397', '2010-01-01', 0.08, 65.0),\n",
       " (2, 'USC00519397', '2010-01-02', 0.0, 63.0),\n",
       " (3, 'USC00519397', '2010-01-03', 0.0, 74.0),\n",
       " (4, 'USC00519397', '2010-01-04', 0.0, 76.0),\n",
       " (5, 'USC00519397', '2010-01-06', None, 73.0)]"
      ]
     },
     "execution_count": 32,
     "metadata": {},
     "output_type": "execute_result"
    }
   ],
   "source": [
    "engine.execute('SELECT * FROM Measurement LIMIT 5').fetchall()"
   ]
  },
  {
   "cell_type": "code",
   "execution_count": 11,
   "metadata": {},
   "outputs": [
    {
     "data": {
      "text/plain": [
       "('2017-08-23')"
      ]
     },
     "execution_count": 11,
     "metadata": {},
     "output_type": "execute_result"
    }
   ],
   "source": [
    "# Find the most recent date in the data set.\n",
    "recent_row = session.query(Measurement.date).order_by(Measurement.date.desc()).first()\n",
    "recent_row"
   ]
  },
  {
   "cell_type": "code",
   "execution_count": 166,
   "metadata": {},
   "outputs": [
    {
     "data": {
      "text/html": [
       "<div>\n",
       "<style scoped>\n",
       "    .dataframe tbody tr th:only-of-type {\n",
       "        vertical-align: middle;\n",
       "    }\n",
       "\n",
       "    .dataframe tbody tr th {\n",
       "        vertical-align: top;\n",
       "    }\n",
       "\n",
       "    .dataframe thead th {\n",
       "        text-align: right;\n",
       "    }\n",
       "</style>\n",
       "<table border=\"1\" class=\"dataframe\">\n",
       "  <thead>\n",
       "    <tr style=\"text-align: right;\">\n",
       "      <th></th>\n",
       "      <th>date</th>\n",
       "      <th>prcp</th>\n",
       "    </tr>\n",
       "  </thead>\n",
       "  <tbody>\n",
       "    <tr>\n",
       "      <th>0</th>\n",
       "      <td>2016-08-23</td>\n",
       "      <td>0.00</td>\n",
       "    </tr>\n",
       "    <tr>\n",
       "      <th>1</th>\n",
       "      <td>2016-08-23</td>\n",
       "      <td>0.15</td>\n",
       "    </tr>\n",
       "    <tr>\n",
       "      <th>2</th>\n",
       "      <td>2016-08-23</td>\n",
       "      <td>0.05</td>\n",
       "    </tr>\n",
       "    <tr>\n",
       "      <th>3</th>\n",
       "      <td>2016-08-23</td>\n",
       "      <td>0.00</td>\n",
       "    </tr>\n",
       "    <tr>\n",
       "      <th>4</th>\n",
       "      <td>2016-08-23</td>\n",
       "      <td>0.02</td>\n",
       "    </tr>\n",
       "    <tr>\n",
       "      <th>...</th>\n",
       "      <td>...</td>\n",
       "      <td>...</td>\n",
       "    </tr>\n",
       "    <tr>\n",
       "      <th>86</th>\n",
       "      <td>2017-08-22</td>\n",
       "      <td>0.50</td>\n",
       "    </tr>\n",
       "    <tr>\n",
       "      <th>89</th>\n",
       "      <td>2017-08-23</td>\n",
       "      <td>0.08</td>\n",
       "    </tr>\n",
       "    <tr>\n",
       "      <th>87</th>\n",
       "      <td>2017-08-23</td>\n",
       "      <td>0.00</td>\n",
       "    </tr>\n",
       "    <tr>\n",
       "      <th>88</th>\n",
       "      <td>2017-08-23</td>\n",
       "      <td>0.00</td>\n",
       "    </tr>\n",
       "    <tr>\n",
       "      <th>90</th>\n",
       "      <td>2017-08-23</td>\n",
       "      <td>0.45</td>\n",
       "    </tr>\n",
       "  </tbody>\n",
       "</table>\n",
       "<p>2230 rows × 2 columns</p>\n",
       "</div>"
      ],
      "text/plain": [
       "          date  prcp\n",
       "0   2016-08-23  0.00\n",
       "1   2016-08-23  0.15\n",
       "2   2016-08-23  0.05\n",
       "3   2016-08-23  0.00\n",
       "4   2016-08-23  0.02\n",
       "..         ...   ...\n",
       "86  2017-08-22  0.50\n",
       "89  2017-08-23  0.08\n",
       "87  2017-08-23  0.00\n",
       "88  2017-08-23  0.00\n",
       "90  2017-08-23  0.45\n",
       "\n",
       "[2230 rows x 2 columns]"
      ]
     },
     "execution_count": 166,
     "metadata": {},
     "output_type": "execute_result"
    }
   ],
   "source": [
    "# Design a query to retrieve the last 12 months of precipitation data and plot the results.\n",
    "# Starting from the most recent data point in the database. \n",
    "recent_row\n",
    "\n",
    "# Calculate the date one year from the last date in data set.\n",
    "year_ago = dt.date(2017, 8, 23) - dt.timedelta(days=365)\n",
    "year_ago\n",
    "\n",
    "# Perform a query to retrieve the data and precipitation scores\n",
    "\n",
    "aug_16 = session.query(Measurement.date, Measurement.prcp).\\\n",
    "                    filter(func.strftime(\"%m\", Measurement.date) == \"08\").\\\n",
    "                    filter(func.strftime(\"%Y\", Measurement.date) == \"2016\").\\\n",
    "                    filter(func.strftime(\"%d\", Measurement.date) >= \"23\").\\\n",
    "                    order_by(Measurement.date).all()\n",
    "\n",
    "sept_16 = session.query(Measurement.date, Measurement.prcp).\\\n",
    "                    filter(func.strftime(\"%m\", Measurement.date) == \"09\").\\\n",
    "                    filter(func.strftime(\"%Y\", Measurement.date) == \"2016\").\\\n",
    "                    order_by(Measurement.date).all()\n",
    "\n",
    "oct_16 = session.query(Measurement.date, Measurement.prcp).\\\n",
    "                    filter(func.strftime(\"%m\", Measurement.date) == \"10\").\\\n",
    "                    filter(func.strftime(\"%Y\", Measurement.date) == \"2016\").\\\n",
    "                    order_by(Measurement.date).all()\n",
    "\n",
    "nov_16 = session.query(Measurement.date, Measurement.prcp).\\\n",
    "                    filter(func.strftime(\"%m\", Measurement.date) == \"11\").\\\n",
    "                    filter(func.strftime(\"%Y\", Measurement.date) == \"2016\").\\\n",
    "                    order_by(Measurement.date).all()\n",
    "\n",
    "dec_16 = session.query(Measurement.date, Measurement.prcp).\\\n",
    "                    filter(func.strftime(\"%m\", Measurement.date) == \"12\").\\\n",
    "                    filter(func.strftime(\"%Y\", Measurement.date) == \"2016\").\\\n",
    "                    order_by(Measurement.date).all()\n",
    "\n",
    "jan_17 = session.query(Measurement.date, Measurement.prcp).\\\n",
    "                    filter(func.strftime(\"%m\", Measurement.date) == \"01\").\\\n",
    "                    filter(func.strftime(\"%Y\", Measurement.date) == \"2017\").\\\n",
    "                    order_by(Measurement.date).all()\n",
    "\n",
    "feb_17 = session.query(Measurement.date, Measurement.prcp).\\\n",
    "                    filter(func.strftime(\"%m\", Measurement.date) == \"02\").\\\n",
    "                    filter(func.strftime(\"%Y\", Measurement.date) == \"2017\").\\\n",
    "                    order_by(Measurement.date).all()\n",
    "\n",
    "mar_17 = session.query(Measurement.date, Measurement.prcp).\\\n",
    "                    filter(func.strftime(\"%m\", Measurement.date) == \"03\").\\\n",
    "                    filter(func.strftime(\"%Y\", Measurement.date) == \"2017\").\\\n",
    "                    order_by(Measurement.date).all()\n",
    "\n",
    "apr_17 = session.query(Measurement.date, Measurement.prcp).\\\n",
    "                    filter(func.strftime(\"%m\", Measurement.date) == \"04\").\\\n",
    "                    filter(func.strftime(\"%Y\", Measurement.date) == \"2017\").\\\n",
    "                    order_by(Measurement.date).all()\n",
    "\n",
    "may_17 = session.query(Measurement.date, Measurement.prcp).\\\n",
    "                    filter(func.strftime(\"%m\", Measurement.date) == \"05\").\\\n",
    "                    filter(func.strftime(\"%Y\", Measurement.date) == \"2017\").\\\n",
    "                    order_by(Measurement.date).all()\n",
    "\n",
    "jun_17 = session.query(Measurement.date, Measurement.prcp).\\\n",
    "                    filter(func.strftime(\"%m\", Measurement.date) == \"06\").\\\n",
    "                    filter(func.strftime(\"%Y\", Measurement.date) == \"2017\").\\\n",
    "                    order_by(Measurement.date).all()\n",
    "\n",
    "jul_17 = session.query(Measurement.date, Measurement.prcp).\\\n",
    "                    filter(func.strftime(\"%m\", Measurement.date) == \"07\").\\\n",
    "                    filter(func.strftime(\"%Y\", Measurement.date) == \"2017\").\\\n",
    "                    order_by(Measurement.date).all()\n",
    "\n",
    "aug_17 = session.query(Measurement.date, Measurement.prcp).\\\n",
    "                    filter(func.strftime(\"%m\", Measurement.date) == \"08\").\\\n",
    "                    filter(func.strftime(\"%Y\", Measurement.date) == \"2017\").\\\n",
    "                    filter(func.strftime(\"%d\", Measurement.date) <= \"23\").\\\n",
    "                    order_by(Measurement.date).all()\n",
    "\n",
    "# Save the query results as a Pandas DataFrame and set the index to the date column\n",
    "aug_16_df = pd.DataFrame(aug_16, columns=['date','prcp'])\n",
    "sept_16_df = pd.DataFrame(sept_16, columns=['date','prcp'])\n",
    "oct_16_df = pd.DataFrame(oct_16, columns=['date','prcp'])\n",
    "nov_16_df = pd.DataFrame(nov_16, columns=['date','prcp'])\n",
    "dec_16_df = pd.DataFrame(dec_16, columns=['date','prcp'])\n",
    "jan_17_df = pd.DataFrame(jan_17, columns=['date','prcp'])\n",
    "feb_17_df = pd.DataFrame(feb_17, columns=['date','prcp'])\n",
    "mar_17_df = pd.DataFrame(mar_17, columns=['date','prcp'])\n",
    "apr_17_df = pd.DataFrame(apr_17, columns=['date','prcp'])\n",
    "may_17_df = pd.DataFrame(may_17, columns=['date','prcp'])\n",
    "jun_17_df = pd.DataFrame(jun_17, columns=['date','prcp'])\n",
    "jul_17_df = pd.DataFrame(jul_17, columns=['date','prcp'])\n",
    "aug_17_df = pd.DataFrame(aug_17, columns=['date','prcp'])\n",
    "\n",
    "#Combine DataFrames\n",
    "from functools import reduce\n",
    "\n",
    "\n",
    "dfs = [aug_16_df,sept_16_df,oct_16_df,nov_16_df,dec_16_df,\n",
    "            jan_17_df,feb_17_df,mar_17_df,apr_17_df,may_17_df,\n",
    "            jun_17_df,jul_17_df,aug_17_df]\n",
    "nan_value = 0\n",
    "\n",
    "prcp_year_aug_16_17 = pd.concat(dfs).fillna(nan_value)\n",
    "\n",
    "\n",
    "# Sort the dataframe by date\n",
    "prcp_year_aug_16_17 = prcp_year_aug_16_17.sort_values('date',ascending=True)\n",
    "prcp_year_aug_16_17\n",
    "\n"
   ]
  },
  {
   "cell_type": "code",
   "execution_count": 167,
   "metadata": {},
   "outputs": [
    {
     "data": {
      "image/png": "[encoded data removed]",
      "text/plain": [
       "<Figure size 432x288 with 1 Axes>"
      ]
     },
     "metadata": {},
     "output_type": "display_data"
    }
   ],
   "source": [
    "# Use Pandas Plotting with Matplotlib to plot the data\n",
    "blue_patch = mpatches.Patch(color='blue', label='Precipitation')\n",
    "prcp_year_aug_16_17.set_index('date', inplace=True)\n",
    "prcp_year_aug_16_17.plot.bar()\n",
    "plt.xlabel(\"Date\")\n",
    "plt.ylabel(\"Inches of Rain\")\n",
    "\n",
    "\n",
    "plt.legend(handles=[blue_patch])\n",
    "plt.xticks(rotation=180)\n",
    "plt.grid()\n",
    "plt.show()"
   ]
  },
  {
   "cell_type": "code",
   "execution_count": null,
   "metadata": {},
   "outputs": [],
   "source": [
    "# Use Pandas to calcualte the summary statistics for the precipitation data\n"
   ]
  },
  {
   "cell_type": "markdown",
   "metadata": {},
   "source": [
    "# Exploratory Station Analysis"
   ]
  },
  {
   "cell_type": "code",
   "execution_count": 168,
   "metadata": {},
   "outputs": [
    {
     "data": {
      "text/plain": [
       "{'_sa_instance_state': <sqlalchemy.orm.state.InstanceState at 0x7fe63fa6a6d8>,\n",
       " 'station': 'USC00519397',\n",
       " 'longitude': -157.8168,\n",
       " 'name': 'WAIKIKI 717.2, HI US',\n",
       " 'id': 1,\n",
       " 'elevation': 3.0,\n",
       " 'latitude': 21.2716}"
      ]
     },
     "execution_count": 168,
     "metadata": {},
     "output_type": "execute_result"
    }
   ],
   "source": [
    "# Design a query to calculate the total number stations in the dataset\n",
    "recent_row = session.query(Station).first()\n",
    "recent_row.__dict__"
   ]
  },
  {
   "cell_type": "code",
   "execution_count": 177,
   "metadata": {},
   "outputs": [
    {
     "name": "stdout",
     "output_type": "stream",
     "text": [
      "id INTEGER\n",
      "station TEXT\n",
      "name TEXT\n",
      "latitude FLOAT\n",
      "longitude FLOAT\n",
      "elevation FLOAT\n"
     ]
    }
   ],
   "source": [
    "inspector = inspect(engine)\n",
    "columns = inspector.get_columns('station')\n",
    "for c in columns:\n",
    "    print(c['name'], c[\"type\"])"
   ]
  },
  {
   "cell_type": "code",
   "execution_count": 179,
   "metadata": {},
   "outputs": [
    {
     "data": {
      "text/plain": [
       "[('USC00511918', 'HONOLULU OBSERVATORY 702.2, HI US', 21.3152, -157.9992),\n",
       " ('USC00513117', 'KANEOHE 838.1, HI US', 21.4234, -157.8015),\n",
       " ('USC00514830', 'KUALOA RANCH HEADQUARTERS 886.9, HI US', 21.5213, -157.8374),\n",
       " ('USC00516128', 'MANOA LYON ARBO 785.2, HI US', 21.3331, -157.8025),\n",
       " ('USC00517948', 'PEARL CITY, HI US', 21.3934, -157.9751),\n",
       " ('USC00518838', 'UPPER WAHIAWA 874.3, HI US', 21.4992, -158.0111),\n",
       " ('USC00519281', 'WAIHEE 837.5, HI US', 21.45167, -157.84888999999998),\n",
       " ('USC00519397', 'WAIKIKI 717.2, HI US', 21.2716, -157.8168),\n",
       " ('USC00519523', 'WAIMANALO EXPERIMENTAL FARM, HI US', 21.33556, -157.71139)]"
      ]
     },
     "execution_count": 179,
     "metadata": {},
     "output_type": "execute_result"
    }
   ],
   "source": [
    "stations = session.query(Station.station, Station.name, Station.latitude, Station.longitude).\\\n",
    "            group_by(Station.station).\\\n",
    "            order_by(Station.station).all()\n",
    "stations"
   ]
  },
  {
   "cell_type": "code",
   "execution_count": null,
   "metadata": {},
   "outputs": [],
   "source": [
    "# Design a query to find the most active stations (i.e. what stations have the most rows?)\n",
    "# List the stations and the counts in descending order.\n"
   ]
  },
  {
   "cell_type": "code",
   "execution_count": null,
   "metadata": {},
   "outputs": [],
   "source": [
    "# Using the most active station id from the previous query, calculate the lowest, highest, and average temperature.\n"
   ]
  },
  {
   "cell_type": "code",
   "execution_count": null,
   "metadata": {},
   "outputs": [],
   "source": [
    "# Using the most active station id\n",
    "# Query the last 12 months of temperature observation data for this station and plot the results as a histogram\n"
   ]
  },
  {
   "cell_type": "markdown",
   "metadata": {},
   "source": [
    "# Close session"
   ]
  },
  {
   "cell_type": "code",
   "execution_count": null,
   "metadata": {},
   "outputs": [],
   "source": [
    "# Close Session\n",
    "session.close()"
   ]
  },
  {
   "cell_type": "code",
   "execution_count": null,
   "metadata": {},
   "outputs": [],
   "source": []
  }
 ],
 "metadata": {
  "anaconda-cloud": {},
  "kernel_info": {
   "name": "python3"
  },
  "kernelspec": {
   "display_name": "Python [conda env:PythonData] *",
   "language": "python",
   "name": "conda-env-PythonData-py"
  },
  "language_info": {
   "codemirror_mode": {
    "name": "ipython",
    "version": 3
   },
   "file_extension": ".py",
   "mimetype": "text/x-python",
   "name": "python",
   "nbconvert_exporter": "python",
   "pygments_lexer": "ipython3",
   "version": "3.6.10"
  },
  "nteract": {
   "version": "0.12.3"
  },
  "varInspector": {
   "cols": {
    "lenName": 16,
    "lenType": 16,
    "lenVar": 40
   },
   "kernels_config": {
    "python": {
     "delete_cmd_postfix": "",
     "delete_cmd_prefix": "del ",
     "library": "var_list.py",
     "varRefreshCmd": "print(var_dic_list())"
    },
    "r": {
     "delete_cmd_postfix": ") ",
     "delete_cmd_prefix": "rm(",
     "library": "var_list.r",
     "varRefreshCmd": "cat(var_dic_list()) "
    }
   },
   "types_to_exclude": [
    "module",
    "function",
    "builtin_function_or_method",
    "instance",
    "_Feature"
   ],
   "window_display": false
  }
 },
 "nbformat": 4,
 "nbformat_minor": 2
}
